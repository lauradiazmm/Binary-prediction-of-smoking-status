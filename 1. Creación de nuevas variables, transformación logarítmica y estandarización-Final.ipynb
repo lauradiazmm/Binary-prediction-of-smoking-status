{
 "cells": [
  {
   "cell_type": "markdown",
   "id": "3b7b1b4a",
   "metadata": {},
   "source": [
    "En esta segunda prueba vamos a incorporar solo las nuevas variables donde hemos observado que tienen relación con ser fumador que tienen un pvalue menor a 0.05 y vamos a crear algunas nuevas. Después, vamos a generar características polinómicas y a escalar los datos. "
   ]
  },
  {
   "cell_type": "code",
   "execution_count": 33,
   "id": "d6a81f48",
   "metadata": {},
   "outputs": [],
   "source": [
    "import pandas as pd\n",
    "import matplotlib.pyplot as plt\n",
    "import seaborn as sns\n",
    "import numpy as np\n",
    "from sklearn import linear_model\n",
    "from sklearn.model_selection import train_test_split\n",
    "from sklearn.linear_model import LogisticRegression\n",
    "from sklearn.metrics import accuracy_score, confusion_matrix\n",
    "from sklearn.metrics import classification_report\n",
    "from sklearn.metrics import ConfusionMatrixDisplay\n",
    "from sklearn.preprocessing import StandardScaler\n",
    "from sklearn import metrics"
   ]
  },
  {
   "cell_type": "code",
   "execution_count": 34,
   "id": "fb470299",
   "metadata": {},
   "outputs": [],
   "source": [
    "df=pd.read_csv(\"train.csv\")"
   ]
  },
  {
   "cell_type": "code",
   "execution_count": 35,
   "id": "9f2c9820",
   "metadata": {},
   "outputs": [],
   "source": [
    "df.drop(columns=\"id\", inplace=True)"
   ]
  },
  {
   "cell_type": "markdown",
   "id": "2b67c3cf",
   "metadata": {},
   "source": [
    "### Crear funciones para añadir variables al df_train y df_test"
   ]
  },
  {
   "cell_type": "markdown",
   "id": "6ad81073",
   "metadata": {},
   "source": [
    "Hemos observado en las gráficas del archivo anterior que los fumadores son más altos que los no fumadores, por ello hemos dividido la altura por tramos también. A partir del tramo donde hemos observado más fumadores que no fumadores. También hemos observado que a partir de los 70 kg hay más fumadores, por ello dividimos el peso por kgs también. \n",
    "Por último, eliminamos algunas columnas que no nos aportan información para predecir nuestra Y."
   ]
  },
  {
   "cell_type": "code",
   "execution_count": 36,
   "id": "3b97cb49",
   "metadata": {},
   "outputs": [],
   "source": [
    "def transforma(df):\n",
    "    df[\"IMC\"] = df[\"weight(kg)\"] / ((df['height(cm)'] / 100) ** 2)\n",
    "    df['weight_to_hip_ratio'] = df['weight(kg)'] / df['waist(cm)']\n",
    "    df['age_category'] = pd.cut(df['age'], bins=[ 18, 35, 50, 100], labels=[ '18-35', '35-50', '50+'])\n",
    "    df['Colesterol_LDL'] = df['LDL'] / df['Cholesterol']\n",
    "    df['Media_vista'] = (df['eyesight(left)'] + df['eyesight(right)'])\n",
    "    df['Vista_tramos'] = pd.cut(df['Media_vista'], bins=[0, 2.7, 4, 20], labels=[ 'Baja', 'Media', 'Alta'])\n",
    "    df['altura_tramos'] = pd.cut(df['height(cm)'], bins=[120, 160, 190], labels=[ 'Bajo', 'Alto'])\n",
    "    df['peso_tramos'] = pd.cut(df['weight(kg)'], bins=[20, 70, 140], labels=[ 'Bajo', 'Alto'])"
   ]
  },
  {
   "cell_type": "code",
   "execution_count": 37,
   "id": "1b9232c5",
   "metadata": {},
   "outputs": [],
   "source": [
    "transforma(df)"
   ]
  },
  {
   "cell_type": "code",
   "execution_count": 38,
   "id": "b0682ad3",
   "metadata": {},
   "outputs": [],
   "source": [
    "df =pd.get_dummies(df, columns=['age_category'], drop_first=True)"
   ]
  },
  {
   "cell_type": "code",
   "execution_count": 39,
   "id": "b1dc11fa",
   "metadata": {},
   "outputs": [],
   "source": [
    "def presión_arterial_alta(systolic, relaxation):\n",
    "    if systolic >= 130 and relaxation > 80:\n",
    "        return 1\n",
    "    else:\n",
    "        return 0"
   ]
  },
  {
   "cell_type": "code",
   "execution_count": 40,
   "id": "f07ca6b2",
   "metadata": {},
   "outputs": [],
   "source": [
    "df['Presión arterial'] = df.apply(lambda row: presión_arterial_alta(row['systolic'], row['relaxation']), axis=1)"
   ]
  },
  {
   "cell_type": "code",
   "execution_count": 41,
   "id": "b3806736",
   "metadata": {},
   "outputs": [],
   "source": [
    "df =pd.get_dummies(df, columns=['Vista_tramos'], drop_first=True)"
   ]
  },
  {
   "cell_type": "code",
   "execution_count": 42,
   "id": "99987e20",
   "metadata": {},
   "outputs": [],
   "source": [
    "df =pd.get_dummies(df, columns=['altura_tramos'], drop_first=True)"
   ]
  },
  {
   "cell_type": "code",
   "execution_count": 43,
   "id": "95d6c083",
   "metadata": {},
   "outputs": [],
   "source": [
    "df =pd.get_dummies(df, columns=['peso_tramos'], drop_first=True)"
   ]
  },
  {
   "cell_type": "code",
   "execution_count": 44,
   "id": "8326e88f",
   "metadata": {},
   "outputs": [],
   "source": [
    "df.drop(columns=\"Media_vista\", inplace=True)"
   ]
  },
  {
   "cell_type": "code",
   "execution_count": 45,
   "id": "ff4f7a31",
   "metadata": {},
   "outputs": [],
   "source": [
    "df.drop(columns=\"eyesight(left)\", inplace=True)"
   ]
  },
  {
   "cell_type": "markdown",
   "id": "9f2427a3",
   "metadata": {},
   "source": [
    "### Hacemos los mismos cambios en el df_test"
   ]
  },
  {
   "cell_type": "code",
   "execution_count": 46,
   "id": "348e237a",
   "metadata": {},
   "outputs": [],
   "source": [
    "df_test=pd.read_csv(\"test.csv\")\n",
    "X_test=df_test.drop(columns=\"id\")"
   ]
  },
  {
   "cell_type": "code",
   "execution_count": 47,
   "id": "7c3445b3",
   "metadata": {},
   "outputs": [],
   "source": [
    "transforma(X_test)"
   ]
  },
  {
   "cell_type": "code",
   "execution_count": 48,
   "id": "40b22281",
   "metadata": {},
   "outputs": [],
   "source": [
    "X_test =pd.get_dummies(X_test, columns=['age_category'], drop_first=True)"
   ]
  },
  {
   "cell_type": "code",
   "execution_count": 49,
   "id": "e5e347bb",
   "metadata": {},
   "outputs": [],
   "source": [
    "X_test['Presión arterial'] = X_test.apply(lambda row: presión_arterial_alta(row['systolic'], row['relaxation']), axis=1)"
   ]
  },
  {
   "cell_type": "code",
   "execution_count": 50,
   "id": "dfd4c1aa",
   "metadata": {},
   "outputs": [],
   "source": [
    "X_test =pd.get_dummies(X_test, columns=['Vista_tramos'], drop_first=True)"
   ]
  },
  {
   "cell_type": "code",
   "execution_count": 51,
   "id": "cea3a5f3",
   "metadata": {},
   "outputs": [],
   "source": [
    "X_test =pd.get_dummies(X_test, columns=['altura_tramos'], drop_first=True)"
   ]
  },
  {
   "cell_type": "code",
   "execution_count": 52,
   "id": "905b3e90",
   "metadata": {},
   "outputs": [],
   "source": [
    "X_test =pd.get_dummies(X_test, columns=['peso_tramos'], drop_first=True)"
   ]
  },
  {
   "cell_type": "code",
   "execution_count": 53,
   "id": "a73c0fe6",
   "metadata": {},
   "outputs": [],
   "source": [
    "X_test.drop(columns=\"Media_vista\", inplace=True)"
   ]
  },
  {
   "cell_type": "code",
   "execution_count": 54,
   "id": "ab922d64",
   "metadata": {},
   "outputs": [],
   "source": [
    "X_test.drop(columns=\"eyesight(left)\", inplace=True)"
   ]
  },
  {
   "cell_type": "markdown",
   "id": "77e1225f",
   "metadata": {},
   "source": [
    "### Generación de características polinómicas"
   ]
  },
  {
   "cell_type": "markdown",
   "id": "7daace25",
   "metadata": {},
   "source": [
    "Lo hacemos para reducir la asimetría en la distribución de datos y comprimir los valores más grandes."
   ]
  },
  {
   "cell_type": "code",
   "execution_count": 57,
   "id": "5361e3cf",
   "metadata": {},
   "outputs": [],
   "source": [
    "X=df.drop(columns=\"smoking\")\n",
    "Y=df.smoking"
   ]
  },
  {
   "cell_type": "code",
   "execution_count": 58,
   "id": "ba107c14",
   "metadata": {},
   "outputs": [],
   "source": [
    "from sklearn.preprocessing import PolynomialFeatures\n",
    "poly = PolynomialFeatures(degree= 2, include_bias=False, interaction_only= True) #include_bias= no quiero que me haga la constante\n",
    "poly.fit(X)\n",
    "X=pd.DataFrame(poly.transform(X), columns= poly.get_feature_names_out())"
   ]
  },
  {
   "cell_type": "markdown",
   "id": "8271d540",
   "metadata": {},
   "source": [
    "### Escalamos los datos"
   ]
  },
  {
   "cell_type": "code",
   "execution_count": 59,
   "id": "2417f049",
   "metadata": {},
   "outputs": [],
   "source": [
    "scaler=StandardScaler()\n",
    "scaler.fit(X)\n",
    "X=pd.DataFrame(scaler.transform(X),columns=X.columns)"
   ]
  },
  {
   "cell_type": "markdown",
   "id": "f402a3b6",
   "metadata": {},
   "source": [
    "### Creamos el modelo de regresión logística"
   ]
  },
  {
   "cell_type": "code",
   "execution_count": 60,
   "id": "3403dfef",
   "metadata": {},
   "outputs": [
    {
     "data": {
      "text/html": [
       "<style>#sk-container-id-2 {color: black;background-color: white;}#sk-container-id-2 pre{padding: 0;}#sk-container-id-2 div.sk-toggleable {background-color: white;}#sk-container-id-2 label.sk-toggleable__label {cursor: pointer;display: block;width: 100%;margin-bottom: 0;padding: 0.3em;box-sizing: border-box;text-align: center;}#sk-container-id-2 label.sk-toggleable__label-arrow:before {content: \"▸\";float: left;margin-right: 0.25em;color: #696969;}#sk-container-id-2 label.sk-toggleable__label-arrow:hover:before {color: black;}#sk-container-id-2 div.sk-estimator:hover label.sk-toggleable__label-arrow:before {color: black;}#sk-container-id-2 div.sk-toggleable__content {max-height: 0;max-width: 0;overflow: hidden;text-align: left;background-color: #f0f8ff;}#sk-container-id-2 div.sk-toggleable__content pre {margin: 0.2em;color: black;border-radius: 0.25em;background-color: #f0f8ff;}#sk-container-id-2 input.sk-toggleable__control:checked~div.sk-toggleable__content {max-height: 200px;max-width: 100%;overflow: auto;}#sk-container-id-2 input.sk-toggleable__control:checked~label.sk-toggleable__label-arrow:before {content: \"▾\";}#sk-container-id-2 div.sk-estimator input.sk-toggleable__control:checked~label.sk-toggleable__label {background-color: #d4ebff;}#sk-container-id-2 div.sk-label input.sk-toggleable__control:checked~label.sk-toggleable__label {background-color: #d4ebff;}#sk-container-id-2 input.sk-hidden--visually {border: 0;clip: rect(1px 1px 1px 1px);clip: rect(1px, 1px, 1px, 1px);height: 1px;margin: -1px;overflow: hidden;padding: 0;position: absolute;width: 1px;}#sk-container-id-2 div.sk-estimator {font-family: monospace;background-color: #f0f8ff;border: 1px dotted black;border-radius: 0.25em;box-sizing: border-box;margin-bottom: 0.5em;}#sk-container-id-2 div.sk-estimator:hover {background-color: #d4ebff;}#sk-container-id-2 div.sk-parallel-item::after {content: \"\";width: 100%;border-bottom: 1px solid gray;flex-grow: 1;}#sk-container-id-2 div.sk-label:hover label.sk-toggleable__label {background-color: #d4ebff;}#sk-container-id-2 div.sk-serial::before {content: \"\";position: absolute;border-left: 1px solid gray;box-sizing: border-box;top: 0;bottom: 0;left: 50%;z-index: 0;}#sk-container-id-2 div.sk-serial {display: flex;flex-direction: column;align-items: center;background-color: white;padding-right: 0.2em;padding-left: 0.2em;position: relative;}#sk-container-id-2 div.sk-item {position: relative;z-index: 1;}#sk-container-id-2 div.sk-parallel {display: flex;align-items: stretch;justify-content: center;background-color: white;position: relative;}#sk-container-id-2 div.sk-item::before, #sk-container-id-2 div.sk-parallel-item::before {content: \"\";position: absolute;border-left: 1px solid gray;box-sizing: border-box;top: 0;bottom: 0;left: 50%;z-index: -1;}#sk-container-id-2 div.sk-parallel-item {display: flex;flex-direction: column;z-index: 1;position: relative;background-color: white;}#sk-container-id-2 div.sk-parallel-item:first-child::after {align-self: flex-end;width: 50%;}#sk-container-id-2 div.sk-parallel-item:last-child::after {align-self: flex-start;width: 50%;}#sk-container-id-2 div.sk-parallel-item:only-child::after {width: 0;}#sk-container-id-2 div.sk-dashed-wrapped {border: 1px dashed gray;margin: 0 0.4em 0.5em 0.4em;box-sizing: border-box;padding-bottom: 0.4em;background-color: white;}#sk-container-id-2 div.sk-label label {font-family: monospace;font-weight: bold;display: inline-block;line-height: 1.2em;}#sk-container-id-2 div.sk-label-container {text-align: center;}#sk-container-id-2 div.sk-container {/* jupyter's `normalize.less` sets `[hidden] { display: none; }` but bootstrap.min.css set `[hidden] { display: none !important; }` so we also need the `!important` here to be able to override the default hidden behavior on the sphinx rendered scikit-learn.org. See: https://github.com/scikit-learn/scikit-learn/issues/21755 */display: inline-block !important;position: relative;}#sk-container-id-2 div.sk-text-repr-fallback {display: none;}</style><div id=\"sk-container-id-2\" class=\"sk-top-container\"><div class=\"sk-text-repr-fallback\"><pre>LogisticRegression(C=0.1, max_iter=10000)</pre><b>In a Jupyter environment, please rerun this cell to show the HTML representation or trust the notebook. <br />On GitHub, the HTML representation is unable to render, please try loading this page with nbviewer.org.</b></div><div class=\"sk-container\" hidden><div class=\"sk-item\"><div class=\"sk-estimator sk-toggleable\"><input class=\"sk-toggleable__control sk-hidden--visually\" id=\"sk-estimator-id-2\" type=\"checkbox\" checked><label for=\"sk-estimator-id-2\" class=\"sk-toggleable__label sk-toggleable__label-arrow\">LogisticRegression</label><div class=\"sk-toggleable__content\"><pre>LogisticRegression(C=0.1, max_iter=10000)</pre></div></div></div></div></div>"
      ],
      "text/plain": [
       "LogisticRegression(C=0.1, max_iter=10000)"
      ]
     },
     "execution_count": 60,
     "metadata": {},
     "output_type": "execute_result"
    }
   ],
   "source": [
    "from sklearn.linear_model import LogisticRegression\n",
    "\n",
    "logistic_model = LogisticRegression(max_iter=10000, C=0.1)\n",
    "logistic_model.fit(X, Y)"
   ]
  },
  {
   "cell_type": "markdown",
   "id": "dcd6c174",
   "metadata": {},
   "source": [
    "### Generación de características polinómicas para el X_test"
   ]
  },
  {
   "cell_type": "code",
   "execution_count": 61,
   "id": "be9e90c4",
   "metadata": {},
   "outputs": [],
   "source": [
    "X_test=pd.DataFrame(poly.transform(X_test), columns= poly.get_feature_names_out())"
   ]
  },
  {
   "cell_type": "markdown",
   "id": "06678d14",
   "metadata": {},
   "source": [
    "### Escalo los datos del df_test"
   ]
  },
  {
   "cell_type": "code",
   "execution_count": 62,
   "id": "37bd7c35",
   "metadata": {},
   "outputs": [],
   "source": [
    "X_test=pd.DataFrame(scaler.transform(X_test), columns=X_test.columns)"
   ]
  },
  {
   "cell_type": "markdown",
   "id": "e119fb74",
   "metadata": {},
   "source": [
    "### Obtengo las probabilidades"
   ]
  },
  {
   "cell_type": "code",
   "execution_count": 63,
   "id": "085561bc",
   "metadata": {},
   "outputs": [],
   "source": [
    "y_probs_test=logistic_model.predict_proba(X_test)[:,1]"
   ]
  },
  {
   "cell_type": "markdown",
   "id": "d277b16a",
   "metadata": {},
   "source": [
    "### Creo un nuevo df"
   ]
  },
  {
   "cell_type": "code",
   "execution_count": 64,
   "id": "32fe836b",
   "metadata": {},
   "outputs": [],
   "source": [
    "submission1 =pd.DataFrame({\"id\":df_test.id,\"smoking\":y_probs_test})"
   ]
  },
  {
   "cell_type": "code",
   "execution_count": 66,
   "id": "3d07ab49",
   "metadata": {},
   "outputs": [],
   "source": [
    "submission1.to_csv('predicciones_fumar.csv', index=False)"
   ]
  },
  {
   "cell_type": "code",
   "execution_count": 65,
   "id": "d24ab267",
   "metadata": {},
   "outputs": [
    {
     "data": {
      "text/html": [
       "<div>\n",
       "<style scoped>\n",
       "    .dataframe tbody tr th:only-of-type {\n",
       "        vertical-align: middle;\n",
       "    }\n",
       "\n",
       "    .dataframe tbody tr th {\n",
       "        vertical-align: top;\n",
       "    }\n",
       "\n",
       "    .dataframe thead th {\n",
       "        text-align: right;\n",
       "    }\n",
       "</style>\n",
       "<table border=\"1\" class=\"dataframe\">\n",
       "  <thead>\n",
       "    <tr style=\"text-align: right;\">\n",
       "      <th></th>\n",
       "      <th>id</th>\n",
       "      <th>smoking</th>\n",
       "    </tr>\n",
       "  </thead>\n",
       "  <tbody>\n",
       "    <tr>\n",
       "      <th>0</th>\n",
       "      <td>159256</td>\n",
       "      <td>0.534020</td>\n",
       "    </tr>\n",
       "    <tr>\n",
       "      <th>1</th>\n",
       "      <td>159257</td>\n",
       "      <td>0.244660</td>\n",
       "    </tr>\n",
       "    <tr>\n",
       "      <th>2</th>\n",
       "      <td>159258</td>\n",
       "      <td>0.394515</td>\n",
       "    </tr>\n",
       "    <tr>\n",
       "      <th>3</th>\n",
       "      <td>159259</td>\n",
       "      <td>0.036705</td>\n",
       "    </tr>\n",
       "    <tr>\n",
       "      <th>4</th>\n",
       "      <td>159260</td>\n",
       "      <td>0.650595</td>\n",
       "    </tr>\n",
       "    <tr>\n",
       "      <th>...</th>\n",
       "      <td>...</td>\n",
       "      <td>...</td>\n",
       "    </tr>\n",
       "    <tr>\n",
       "      <th>106166</th>\n",
       "      <td>265422</td>\n",
       "      <td>0.579635</td>\n",
       "    </tr>\n",
       "    <tr>\n",
       "      <th>106167</th>\n",
       "      <td>265423</td>\n",
       "      <td>0.705990</td>\n",
       "    </tr>\n",
       "    <tr>\n",
       "      <th>106168</th>\n",
       "      <td>265424</td>\n",
       "      <td>0.459917</td>\n",
       "    </tr>\n",
       "    <tr>\n",
       "      <th>106169</th>\n",
       "      <td>265425</td>\n",
       "      <td>0.059831</td>\n",
       "    </tr>\n",
       "    <tr>\n",
       "      <th>106170</th>\n",
       "      <td>265426</td>\n",
       "      <td>0.018201</td>\n",
       "    </tr>\n",
       "  </tbody>\n",
       "</table>\n",
       "<p>106171 rows × 2 columns</p>\n",
       "</div>"
      ],
      "text/plain": [
       "            id   smoking\n",
       "0       159256  0.534020\n",
       "1       159257  0.244660\n",
       "2       159258  0.394515\n",
       "3       159259  0.036705\n",
       "4       159260  0.650595\n",
       "...        ...       ...\n",
       "106166  265422  0.579635\n",
       "106167  265423  0.705990\n",
       "106168  265424  0.459917\n",
       "106169  265425  0.059831\n",
       "106170  265426  0.018201\n",
       "\n",
       "[106171 rows x 2 columns]"
      ]
     },
     "execution_count": 65,
     "metadata": {},
     "output_type": "execute_result"
    }
   ],
   "source": [
    "submission1"
   ]
  }
 ],
 "metadata": {
  "kernelspec": {
   "display_name": "Python 3 (ipykernel)",
   "language": "python",
   "name": "python3"
  },
  "language_info": {
   "codemirror_mode": {
    "name": "ipython",
    "version": 3
   },
   "file_extension": ".py",
   "mimetype": "text/x-python",
   "name": "python",
   "nbconvert_exporter": "python",
   "pygments_lexer": "ipython3",
   "version": "3.11.3"
  }
 },
 "nbformat": 4,
 "nbformat_minor": 5
}
